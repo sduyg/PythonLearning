{
  "nbformat": 4,
  "nbformat_minor": 0,
  "metadata": {
    "colab": {
      "name": "I'm learning Python.ipynb",
      "provenance": [],
      "collapsed_sections": []
    },
    "kernelspec": {
      "name": "python3",
      "display_name": "Python 3"
    },
    "language_info": {
      "name": "python"
    }
  },
  "cells": [
    {
      "cell_type": "markdown",
      "source": [
        ""
      ],
      "metadata": {
        "id": "75AjGIK8EK32"
      }
    },
    {
      "cell_type": "markdown",
      "source": [
        "**Pyhton ile Veri Bilimi Kitabı - 1.Kısım - Programlama**\n",
        "\n",
        "# 1. Bölüm - Bilgisayarlar ve Programlama\n",
        "\n",
        "\n",
        "Python'da parantezler vb. yerine girintiler kullanılır. Hangi ifadelerin ilgili fonksiyon ya da döngüye ait olduğunu belirtmek için izleyen satırdan itibaren girinti kullanılır. \n",
        "\n",
        "Python için belirlenmiş yazım kuralları ve standartları rehberi vadır. Bunlara PEP denmektedir. PEP'ler www.python.org/dev/peps adresinden ulaşılabilir. Ayrıca şu kısa yazıda ise Python'da kodlamanın ana ilkeleri belirtilmiştir. The Zen of Python - Tim PETERS.\n",
        "\n",
        "**Python Editörleri**\n",
        "\n",
        "***1. PyCharm:*** by JetBrains - ücretsiz sürümü bulunur. Proje geliştirme, sürüm kontrolü, otomatik komut tamamlama ve hata ayıklama gibi özelliklere sahiptir. https://www.jetbrains.com/pycharm/ şuradan download edilebilir.\n",
        "\n",
        "***2. WingIDE:*** by Wingware - ücretsiz sürümü bulunur. PyCharm gibi entegre özelliklere saiptir. https://www.wingware.com sitesinden ücretsiz download seçenekleri görülebilir.\n",
        "\n",
        "***3. Anaconda:*** Bir editör veya proje geliştirme ortamı değildir. Python ve R için geliştirme ortamlarını birarada sunan bir platform. İçerisinde Python editörleri jupyter bulunur. Aynı zamanda learning kısmından çok sayıda eğitim alınabilir. \n",
        "\n",
        "***4. Spyder:***  PyCharm ve WindIDE gibi proje geliştirme ortamı sunar. \n",
        "\n",
        "***5. Jupyter:*** Web tabanlı interaktif kodlama ara yüzüdür. Hem metin hem de kod yazmaya olanak sağlar. Jupyter dosyaları \".pynb\" uzantılı olarak kaydeder. Özellikle veri analizi çalışmalarında daha çok kullanılmaktadır. \n",
        "\n",
        "Kısa veya veri analizi veya görselleştirmeye yönelik programlamalarda Python terminal (Anaconda) veya Jupyter editörleri iyi bir ortam sunsa da daha büyük projeler için PyCharm ya da Spyder ortamları önerilir. \n",
        "\n",
        "# 2. Bölüm - Temel İşlemler ve Veri Tipleri\n",
        "\n",
        "Temel aritmetik işlemler hesap makinesi gibi yapılmaktadır. Bazı örnekler:\n"
      ],
      "metadata": {
        "id": "xH9Q6isDEMhI"
      }
    },
    {
      "cell_type": "code",
      "source": [
        "18+7\n"
      ],
      "metadata": {
        "colab": {
          "base_uri": "https://localhost:8080/"
        },
        "id": "bIOaU1R-ELNx",
        "outputId": "42ee7e0f-e526-47a9-d749-fe2b63304879"
      },
      "execution_count": null,
      "outputs": [
        {
          "output_type": "execute_result",
          "data": {
            "text/plain": [
              "25"
            ]
          },
          "metadata": {},
          "execution_count": 2
        }
      ]
    },
    {
      "cell_type": "code",
      "source": [
        "81-17"
      ],
      "metadata": {
        "colab": {
          "base_uri": "https://localhost:8080/"
        },
        "id": "h3JDFyqJEZTL",
        "outputId": "201d9ce5-2f9f-4af4-d5be-40910e561400"
      },
      "execution_count": null,
      "outputs": [
        {
          "output_type": "execute_result",
          "data": {
            "text/plain": [
              "64"
            ]
          },
          "metadata": {},
          "execution_count": 3
        }
      ]
    },
    {
      "cell_type": "code",
      "source": [
        "96/12"
      ],
      "metadata": {
        "colab": {
          "base_uri": "https://localhost:8080/"
        },
        "id": "51p8hzzfEdEY",
        "outputId": "38785b40-ae8f-4958-93ee-94be3b5f7908"
      },
      "execution_count": null,
      "outputs": [
        {
          "output_type": "execute_result",
          "data": {
            "text/plain": [
              "8.0"
            ]
          },
          "metadata": {},
          "execution_count": 4
        }
      ]
    },
    {
      "cell_type": "markdown",
      "source": [
        "Bir değeri her defasında yazmak yerine bir değişkene atamak ve o değişkeni kullanarak işlem yapmak daha mantıklıdır."
      ],
      "metadata": {
        "id": "OakROsOjEpIf"
      }
    },
    {
      "cell_type": "code",
      "source": [
        "a=12\n",
        "a"
      ],
      "metadata": {
        "colab": {
          "base_uri": "https://localhost:8080/"
        },
        "id": "1JxRGto1EyWy",
        "outputId": "3bcdc288-af44-4dd6-d380-13b1a4e47a42"
      },
      "execution_count": null,
      "outputs": [
        {
          "output_type": "execute_result",
          "data": {
            "text/plain": [
              "12"
            ]
          },
          "metadata": {},
          "execution_count": 5
        }
      ]
    },
    {
      "cell_type": "code",
      "source": [
        "a**2"
      ],
      "metadata": {
        "colab": {
          "base_uri": "https://localhost:8080/"
        },
        "id": "_FbbRIolE3vp",
        "outputId": "91b90313-15c0-4be7-96e7-cb0b973f6111"
      },
      "execution_count": null,
      "outputs": [
        {
          "output_type": "execute_result",
          "data": {
            "text/plain": [
              "144"
            ]
          },
          "metadata": {},
          "execution_count": 6
        }
      ]
    },
    {
      "cell_type": "markdown",
      "source": [
        "En son geçerli değeri göstermek için \"_\" kullanılır:"
      ],
      "metadata": {
        "id": "RdPsd29CFHlS"
      }
    },
    {
      "cell_type": "code",
      "source": [
        "_"
      ],
      "metadata": {
        "colab": {
          "base_uri": "https://localhost:8080/"
        },
        "id": "p_v6lIo2FNzc",
        "outputId": "93eaba6d-c439-4a18-fa70-e3605e10ba55"
      },
      "execution_count": null,
      "outputs": [
        {
          "output_type": "execute_result",
          "data": {
            "text/plain": [
              "144"
            ]
          },
          "metadata": {},
          "execution_count": 7
        }
      ]
    },
    {
      "cell_type": "code",
      "source": [
        "_/24"
      ],
      "metadata": {
        "colab": {
          "base_uri": "https://localhost:8080/"
        },
        "id": "7h_Y79GuFPz8",
        "outputId": "b5d448dd-eb15-446f-d900-87a0af93c78a"
      },
      "execution_count": null,
      "outputs": [
        {
          "output_type": "execute_result",
          "data": {
            "text/plain": [
              "6.0"
            ]
          },
          "metadata": {},
          "execution_count": 8
        }
      ]
    },
    {
      "cell_type": "markdown",
      "source": [
        "Ekrana herhangi bir şey yazdırmak için \"print()\" komutu kullanılır:"
      ],
      "metadata": {
        "id": "R7QXtGyJFW-k"
      }
    },
    {
      "cell_type": "code",
      "source": [
        "print(\"Python Öğreniyorum\")"
      ],
      "metadata": {
        "colab": {
          "base_uri": "https://localhost:8080/"
        },
        "id": "XkbudbZhFdZE",
        "outputId": "da4e2616-5c79-4d85-cffa-eac38196d0fb"
      },
      "execution_count": null,
      "outputs": [
        {
          "output_type": "stream",
          "name": "stdout",
          "text": [
            "Python Öğreniyorum\n"
          ]
        }
      ]
    },
    {
      "cell_type": "markdown",
      "source": [
        "Python'da kullanılan temel aritmetik sembollerin haricinde bazı operatörler ve karşılıkları:\n",
        "\n",
        "% mod alma\n",
        "\n",
        "** üs alma\n",
        "\n",
        "// tamsayı bölme\n",
        "\n",
        "Python'da kod aralarına açıklama yazmak istersek \"#\" operatörünü kullanırız.\n"
      ],
      "metadata": {
        "id": "_MFlUcIAFkwg"
      }
    },
    {
      "cell_type": "code",
      "source": [
        "print(5**2) # üs alma işlemi \n",
        "print(13%3) # mod alma işlemi"
      ],
      "metadata": {
        "colab": {
          "base_uri": "https://localhost:8080/"
        },
        "id": "90JtZWMlG7CF",
        "outputId": "aeadd0d6-5e3d-48a5-d1e4-5c8f4e4125c4"
      },
      "execution_count": null,
      "outputs": [
        {
          "output_type": "stream",
          "name": "stdout",
          "text": [
            "25\n",
            "1\n"
          ]
        }
      ]
    },
    {
      "cell_type": "markdown",
      "source": [
        "Açıklama cümlelerini birden fazla satırda yazmamız gerekiyorsa cümlenin başına ve sonun 3 tane tırnak işareti getirmek \"\"\" yeterlidir. \n",
        "\n",
        "***2.1. Değişkenler*** \n",
        "\n",
        "Değişken, bir değeri daha sonra da yine ve farklı işlemlerde kullanabilmek için bu değere verilen isimdir. Örneğin e=2.71828183 yazarsam, e ile işlem yaptığımda bu değeri anlayacaktır.\n",
        "Verilerin depolandığı yerler \"nesne\" olarak adlandırılır. Değişken belirlerken şu kurallara uymak gerekir:\n",
        "\n",
        "* değişkenler harf, sayı ya da alt çizgi içerebilir.\n",
        "* bir değişken ismi harf veya alt çizgi ile başlayabilir ama sayı ile başlayamaz ve boşluk içermez.\n",
        "* birden fazla değişken aynı anda tanımlanabilir (a,b = 3.14, 2.78 gibi)\n",
        "* değişken isimleri büyük-küçük harfe duyarlıdır (abc, Abc, aBc farklı değişkenlerdir)\n",
        "\n",
        "***2.2 Temel Veri Tipleri***\n",
        "\n",
        "Python'da temel olarak int(integer:tamsayı), float(gerçelsayı) ve string(metin veri tipleri vardır. Bunlar dışında bir değeri olmayan None(boş) ve sadece true,false değerlerini alan bool veri tipi vardır. Karmaşık sayılar için complex veri tipi kullanılır. "
      ],
      "metadata": {
        "id": "vO4Qz3A_HPYe"
      }
    },
    {
      "cell_type": "markdown",
      "source": [
        "* *Integer*: Tamsayı türündeki verilerdir. Python'da tamsayılar 10'luk, 2'lik 8'lik veya 16'lık sistemde yazılabilir. 2'lik sistemde yazmak için sayının başına 0b (0 ve binary) getirilir. 8'lik sistem için 0o ve 16'lık için sayının başına 0x getirilir:"
      ],
      "metadata": {
        "id": "Ljz79ezsQOf8"
      }
    },
    {
      "cell_type": "code",
      "source": [
        "0b100 # 2'lik düzende 100 sayısının onluk düzendeki karşılığı"
      ],
      "metadata": {
        "colab": {
          "base_uri": "https://localhost:8080/"
        },
        "id": "NhnBAPCvQ0hT",
        "outputId": "d9199a9b-e57c-4e8c-f927-27f07d145814"
      },
      "execution_count": null,
      "outputs": [
        {
          "output_type": "execute_result",
          "data": {
            "text/plain": [
              "4"
            ]
          },
          "metadata": {},
          "execution_count": 12
        }
      ]
    },
    {
      "cell_type": "code",
      "source": [
        "0o100 # 8'lik düzende 100 sayısının onluk düzendeki karşılığı"
      ],
      "metadata": {
        "colab": {
          "base_uri": "https://localhost:8080/"
        },
        "id": "e5Ff7jB5RCs5",
        "outputId": "ef5637a3-5366-47c3-dd14-0e1b5d570049"
      },
      "execution_count": null,
      "outputs": [
        {
          "output_type": "execute_result",
          "data": {
            "text/plain": [
              "64"
            ]
          },
          "metadata": {},
          "execution_count": 13
        }
      ]
    },
    {
      "cell_type": "markdown",
      "source": [
        "Bir gerçel sayıyı tamsayıya çevirmek için int() fonskiyonu kullanılır. Bu fonksiyon, gerçel sayının ondalık kısmını siler."
      ],
      "metadata": {
        "id": "-c6eCGe4RMai"
      }
    },
    {
      "cell_type": "code",
      "source": [
        "int(-3.999)"
      ],
      "metadata": {
        "colab": {
          "base_uri": "https://localhost:8080/"
        },
        "id": "y1dRpaX_RU7q",
        "outputId": "31fc40a4-c560-4c40-f5d0-f87470fc95ad"
      },
      "execution_count": null,
      "outputs": [
        {
          "output_type": "execute_result",
          "data": {
            "text/plain": [
              "-3"
            ]
          },
          "metadata": {},
          "execution_count": 14
        }
      ]
    },
    {
      "cell_type": "markdown",
      "source": [
        "int() fonksiyonu metin olarak girilmiş bir sayıyı da tamsayıya çevirebilir."
      ],
      "metadata": {
        "id": "GZdud10RRcIf"
      }
    },
    {
      "cell_type": "code",
      "source": [
        "int('1807')"
      ],
      "metadata": {
        "colab": {
          "base_uri": "https://localhost:8080/"
        },
        "id": "fJvt_z6sRicX",
        "outputId": "bf1260fb-c51e-4670-956e-142ce4105a6e"
      },
      "execution_count": null,
      "outputs": [
        {
          "output_type": "execute_result",
          "data": {
            "text/plain": [
              "1807"
            ]
          },
          "metadata": {},
          "execution_count": 15
        }
      ]
    },
    {
      "cell_type": "markdown",
      "source": [
        "Bir verinin tipini öğrenmek için type() fonksiyonu kullanılır."
      ],
      "metadata": {
        "id": "UuxSgtv1RrUJ"
      }
    },
    {
      "cell_type": "code",
      "source": [
        "type(17)"
      ],
      "metadata": {
        "colab": {
          "base_uri": "https://localhost:8080/"
        },
        "id": "06epA81SRwkI",
        "outputId": "1420c476-5f10-46ff-8838-dcc136214877"
      },
      "execution_count": null,
      "outputs": [
        {
          "output_type": "execute_result",
          "data": {
            "text/plain": [
              "int"
            ]
          },
          "metadata": {},
          "execution_count": 16
        }
      ]
    },
    {
      "cell_type": "markdown",
      "source": [
        "* *Float*: Gerçel ya da ondalık sayılar float veri tipi olarak saklanır. 3.14, 2.7818 gibi..\n",
        "Çok büyük sayılar yazmak için bilimsel notasyonları da kullanılabilir. Örneğin 4e12 olarak yazılabilir:"
      ],
      "metadata": {
        "id": "7Qp6Yf1qR1Q3"
      }
    },
    {
      "cell_type": "code",
      "source": [
        "4e12"
      ],
      "metadata": {
        "colab": {
          "base_uri": "https://localhost:8080/"
        },
        "id": "DewGJIRVSRzZ",
        "outputId": "a83bedf2-056a-466c-f53c-3a95d7dc66f9"
      },
      "execution_count": null,
      "outputs": [
        {
          "output_type": "execute_result",
          "data": {
            "text/plain": [
              "4000000000000.0"
            ]
          },
          "metadata": {},
          "execution_count": 17
        }
      ]
    },
    {
      "cell_type": "markdown",
      "source": [
        "int tipindeki bir sayıyı floata çevirmek de mümkündür:"
      ],
      "metadata": {
        "id": "43cNEAUySTkD"
      }
    },
    {
      "cell_type": "code",
      "source": [
        "float(11)"
      ],
      "metadata": {
        "colab": {
          "base_uri": "https://localhost:8080/"
        },
        "id": "KXOM9slwSafm",
        "outputId": "1e71c610-c8ae-4e89-c63a-a1a9643657bf"
      },
      "execution_count": null,
      "outputs": [
        {
          "output_type": "execute_result",
          "data": {
            "text/plain": [
              "11.0"
            ]
          },
          "metadata": {},
          "execution_count": 18
        }
      ]
    },
    {
      "cell_type": "markdown",
      "source": [
        "* *Complex*: Karmaşık sayıları belirtmek için kullanılır. Python'da karmaşık sayının sanal kısmı J il ifade edilir. J=kök-1 anlamına gelmektedir. "
      ],
      "metadata": {
        "id": "r-nLPi6iSc9n"
      }
    },
    {
      "cell_type": "code",
      "source": [
        "3+4j"
      ],
      "metadata": {
        "colab": {
          "base_uri": "https://localhost:8080/"
        },
        "id": "ybgWi80vTC9i",
        "outputId": "bf2f1df1-4ff1-4495-97b9-4c3dcdf5b7a8"
      },
      "execution_count": null,
      "outputs": [
        {
          "output_type": "execute_result",
          "data": {
            "text/plain": [
              "(3+4j)"
            ]
          },
          "metadata": {},
          "execution_count": 19
        }
      ]
    },
    {
      "cell_type": "code",
      "source": [
        "type(1+1j)"
      ],
      "metadata": {
        "colab": {
          "base_uri": "https://localhost:8080/"
        },
        "id": "A5iYdzXYTGIM",
        "outputId": "90d52a1d-d521-4f73-930d-50503b583722"
      },
      "execution_count": null,
      "outputs": [
        {
          "output_type": "execute_result",
          "data": {
            "text/plain": [
              "complex"
            ]
          },
          "metadata": {},
          "execution_count": 20
        }
      ]
    },
    {
      "cell_type": "code",
      "source": [
        "complex(4,3) #karmaşık sayı tanımlama, ilk argüman gerçel tarafı ikinci argüman sanal kısmı temsil eder."
      ],
      "metadata": {
        "colab": {
          "base_uri": "https://localhost:8080/"
        },
        "id": "lT_4utRMTQzC",
        "outputId": "ae8f2a81-674a-46bf-a4ce-ba957f16c31c"
      },
      "execution_count": null,
      "outputs": [
        {
          "output_type": "execute_result",
          "data": {
            "text/plain": [
              "(4+3j)"
            ]
          },
          "metadata": {},
          "execution_count": 21
        }
      ]
    },
    {
      "cell_type": "markdown",
      "source": [
        "* *Bool*: Sadece True veya False şeklinde değer alan mantıksal bir veri türüdür. Sayısal olarak 0 değeri False, sıfır dışındaki tüm değerler True olarak kabul edilir. "
      ],
      "metadata": {
        "id": "P3OeHP4PT1Ng"
      }
    },
    {
      "cell_type": "code",
      "source": [
        "bool(0)"
      ],
      "metadata": {
        "colab": {
          "base_uri": "https://localhost:8080/"
        },
        "id": "NX-GvrYlUClA",
        "outputId": "6f3f1b96-461a-40ac-f271-d3c996361480"
      },
      "execution_count": null,
      "outputs": [
        {
          "output_type": "execute_result",
          "data": {
            "text/plain": [
              "False"
            ]
          },
          "metadata": {},
          "execution_count": 22
        }
      ]
    },
    {
      "cell_type": "code",
      "source": [
        "bool(-3)"
      ],
      "metadata": {
        "colab": {
          "base_uri": "https://localhost:8080/"
        },
        "id": "-KsmQdrfUEWT",
        "outputId": "de709a2d-12c1-4e64-d3d1-430ba51f3920"
      },
      "execution_count": null,
      "outputs": [
        {
          "output_type": "execute_result",
          "data": {
            "text/plain": [
              "True"
            ]
          },
          "metadata": {},
          "execution_count": 23
        }
      ]
    },
    {
      "cell_type": "code",
      "source": [
        "bool(4.12)"
      ],
      "metadata": {
        "colab": {
          "base_uri": "https://localhost:8080/"
        },
        "id": "mV37isv4UGYg",
        "outputId": "9d77592c-9996-47e6-f042-5930de1a7ba8"
      },
      "execution_count": null,
      "outputs": [
        {
          "output_type": "execute_result",
          "data": {
            "text/plain": [
              "True"
            ]
          },
          "metadata": {},
          "execution_count": 24
        }
      ]
    },
    {
      "cell_type": "code",
      "source": [
        "True+True"
      ],
      "metadata": {
        "colab": {
          "base_uri": "https://localhost:8080/"
        },
        "id": "rkxKpdejUIil",
        "outputId": "1aa9a73e-c378-4332-d41d-4ba02064c638"
      },
      "execution_count": null,
      "outputs": [
        {
          "output_type": "execute_result",
          "data": {
            "text/plain": [
              "2"
            ]
          },
          "metadata": {},
          "execution_count": 25
        }
      ]
    },
    {
      "cell_type": "markdown",
      "source": [
        "* *String*: Metin veri tipidir. Bu tip Python'da \"\" veya '' işareti arasında yazılarak kullanılır. Metin veri tipi için iki işareti de kullanmak oldukça faydalıdır:"
      ],
      "metadata": {
        "id": "hzOTJewKUhe_"
      }
    },
    {
      "cell_type": "code",
      "source": [
        "\"Python, 'Guido van Rossum' tarafından geliştirilmiştir.\""
      ],
      "metadata": {
        "colab": {
          "base_uri": "https://localhost:8080/",
          "height": 35
        },
        "id": "dRfFt8mdU-oF",
        "outputId": "b8e5aa24-496e-4899-d89f-bb243ec76de2"
      },
      "execution_count": null,
      "outputs": [
        {
          "output_type": "execute_result",
          "data": {
            "application/vnd.google.colaboratory.intrinsic+json": {
              "type": "string"
            },
            "text/plain": [
              "\"Python, 'Guido van Rossum' tarafından geliştirilmiştir.\""
            ]
          },
          "metadata": {},
          "execution_count": 26
        }
      ]
    },
    {
      "cell_type": "code",
      "source": [
        "\"birinci\"  \"ikinci\"  \"üçüncü\""
      ],
      "metadata": {
        "colab": {
          "base_uri": "https://localhost:8080/",
          "height": 35
        },
        "id": "vwMCki8eVIfI",
        "outputId": "66c4d7a8-54a2-45f2-a218-60a296e1858d"
      },
      "execution_count": null,
      "outputs": [
        {
          "output_type": "execute_result",
          "data": {
            "application/vnd.google.colaboratory.intrinsic+json": {
              "type": "string"
            },
            "text/plain": [
              "'birinciikinciüçüncü'"
            ]
          },
          "metadata": {},
          "execution_count": 28
        }
      ]
    },
    {
      "cell_type": "markdown",
      "source": [
        "Python UTF-8 standartlarını kullandığı için Türkçe karakter kullanabiliriz:"
      ],
      "metadata": {
        "id": "gzoVxuE4VdYN"
      }
    },
    {
      "cell_type": "code",
      "source": [
        "metin= \"İışşÖöÜüĞğ\"\n"
      ],
      "metadata": {
        "id": "7fPwawjfVjdm"
      },
      "execution_count": null,
      "outputs": []
    },
    {
      "cell_type": "code",
      "source": [
        "print(metin)"
      ],
      "metadata": {
        "colab": {
          "base_uri": "https://localhost:8080/"
        },
        "id": "f10eltAUVqK-",
        "outputId": "faba7a6a-115e-4b64-9ef3-eaddc2350bf6"
      },
      "execution_count": null,
      "outputs": [
        {
          "output_type": "stream",
          "name": "stdout",
          "text": [
            "İışşÖöÜüĞğ\n"
          ]
        }
      ]
    },
    {
      "cell_type": "markdown",
      "source": [
        "Python'da metnin uzunluğu ne kadar olursa olsun string veri tipinde olur. Metinde ilk karakterin sırası 0 ikinci sıradaki karakterin sayısı 1 şeklinde devam eder. Örneğin Python --> 012345 olarak sıralanmıştır. Herhangi bir sıradaki karakteri çekmek için köşeli parantez [] içerisinde sıra numarası yazılır: "
      ],
      "metadata": {
        "id": "m5QXT3QUyICh"
      }
    },
    {
      "cell_type": "code",
      "source": [
        "il = 'istanbul'\n",
        "il[3]"
      ],
      "metadata": {
        "colab": {
          "base_uri": "https://localhost:8080/",
          "height": 35
        },
        "id": "UyFq75t4zGXg",
        "outputId": "68b7ee77-161d-4604-8109-324f19cc92bf"
      },
      "execution_count": 2,
      "outputs": [
        {
          "output_type": "execute_result",
          "data": {
            "application/vnd.google.colaboratory.intrinsic+json": {
              "type": "string"
            },
            "text/plain": [
              "'a'"
            ]
          },
          "metadata": {},
          "execution_count": 2
        }
      ]
    },
    {
      "cell_type": "markdown",
      "source": [
        "Birden fazla metni birarada yazdırmak için print fonksiyonu içinde biraraya getirilmek istenen metinler arasına + işareti konur:"
      ],
      "metadata": {
        "id": "LtdfUUcwzjhu"
      }
    },
    {
      "cell_type": "code",
      "source": [
        "print (\"Pyhton \" + \"Öğreniyorum \" + \"!\")"
      ],
      "metadata": {
        "colab": {
          "base_uri": "https://localhost:8080/"
        },
        "id": "kh9kKAQFzuL0",
        "outputId": "19c7fef2-806a-4c89-e61d-f311f5a64a23"
      },
      "execution_count": 4,
      "outputs": [
        {
          "output_type": "stream",
          "name": "stdout",
          "text": [
            "Pyhton Öğreniyorum !\n"
          ]
        }
      ]
    },
    {
      "cell_type": "markdown",
      "source": [
        "Bir veriyi metne çevirmek için str() fonksiyonu kullanılır:"
      ],
      "metadata": {
        "id": "APXp5ULi0DLy"
      }
    },
    {
      "cell_type": "code",
      "source": [
        "x = 12345\n",
        "type(x)"
      ],
      "metadata": {
        "colab": {
          "base_uri": "https://localhost:8080/"
        },
        "id": "SB8Uqjtv0IJw",
        "outputId": "63ef1bfd-2f49-413a-ed90-50f9515dd67d"
      },
      "execution_count": 5,
      "outputs": [
        {
          "output_type": "execute_result",
          "data": {
            "text/plain": [
              "int"
            ]
          },
          "metadata": {},
          "execution_count": 5
        }
      ]
    },
    {
      "cell_type": "code",
      "source": [
        "y = str(x)\n",
        "y"
      ],
      "metadata": {
        "colab": {
          "base_uri": "https://localhost:8080/",
          "height": 35
        },
        "id": "dSPfKiZK0P98",
        "outputId": "e9abfef2-74c2-4773-d143-433feb4aef3b"
      },
      "execution_count": 6,
      "outputs": [
        {
          "output_type": "execute_result",
          "data": {
            "application/vnd.google.colaboratory.intrinsic+json": {
              "type": "string"
            },
            "text/plain": [
              "'12345'"
            ]
          },
          "metadata": {},
          "execution_count": 6
        }
      ]
    },
    {
      "cell_type": "code",
      "source": [
        "type(y)"
      ],
      "metadata": {
        "colab": {
          "base_uri": "https://localhost:8080/"
        },
        "id": "kWnJEfn70TcX",
        "outputId": "1b8f78b1-3bb5-407e-cd98-681d52c988e4"
      },
      "execution_count": 7,
      "outputs": [
        {
          "output_type": "execute_result",
          "data": {
            "text/plain": [
              "str"
            ]
          },
          "metadata": {},
          "execution_count": 7
        }
      ]
    },
    {
      "cell_type": "markdown",
      "source": [
        "Python'da metinleri birden fazla satırda yazmak için iki yol vardır. Biri, metin başında 3 tırnak veya 3 kesme işareti kullanarak arada kalan metni farklı satırlara yazmaktır. Metin çıktısında tek satır olarak görünür ve satır sonlarına /n karakteri eklenir:"
      ],
      "metadata": {
        "id": "FWSfoKqy0kiq"
      }
    },
    {
      "cell_type": "code",
      "source": [
        "\"\"\"Python'da metinler\n",
        ".... birden fazla satıra \n",
        ".... yazılabilir.\"\"\""
      ],
      "metadata": {
        "colab": {
          "base_uri": "https://localhost:8080/",
          "height": 35
        },
        "id": "1DqHNWWR1i5g",
        "outputId": "70793444-6387-4898-e8c7-867a7e736f92"
      },
      "execution_count": 8,
      "outputs": [
        {
          "output_type": "execute_result",
          "data": {
            "application/vnd.google.colaboratory.intrinsic+json": {
              "type": "string"
            },
            "text/plain": [
              "\"Python'da metinler\\n.... birden fazla satıra \\n.... yazılabilir.\""
            ]
          },
          "metadata": {},
          "execution_count": 8
        }
      ]
    },
    {
      "cell_type": "code",
      "source": [
        "metin = \"Bu metin \\nbirden fazla \\nsatırda yazılmıştır.\"\n",
        "metin"
      ],
      "metadata": {
        "colab": {
          "base_uri": "https://localhost:8080/",
          "height": 35
        },
        "id": "LCdsF97N1rFX",
        "outputId": "11b040a7-6185-42da-e676-1f40bb159253"
      },
      "execution_count": 11,
      "outputs": [
        {
          "output_type": "execute_result",
          "data": {
            "application/vnd.google.colaboratory.intrinsic+json": {
              "type": "string"
            },
            "text/plain": [
              "'Bu metin \\nbirden fazla \\nsatırda yazılmıştır.'"
            ]
          },
          "metadata": {},
          "execution_count": 11
        }
      ]
    },
    {
      "cell_type": "code",
      "source": [
        "print(metin)"
      ],
      "metadata": {
        "colab": {
          "base_uri": "https://localhost:8080/"
        },
        "id": "QfuMQiZ82IgP",
        "outputId": "58f5edf9-ac46-4cc0-8c2c-fe2c93404cf2"
      },
      "execution_count": 12,
      "outputs": [
        {
          "output_type": "stream",
          "name": "stdout",
          "text": [
            "Bu metin \n",
            "birden fazla \n",
            "satırda yazılmıştır.\n"
          ]
        }
      ]
    },
    {
      "cell_type": "code",
      "source": [
        "metin = \"Python \\t ile \\t programlama\" #\\t ile tab karakteri koymak\n",
        "print(metin)"
      ],
      "metadata": {
        "colab": {
          "base_uri": "https://localhost:8080/"
        },
        "id": "HX3Vjtzd2Kzn",
        "outputId": "70877ddb-33f3-4ae0-e336-85437b614ad0"
      },
      "execution_count": 14,
      "outputs": [
        {
          "output_type": "stream",
          "name": "stdout",
          "text": [
            "Python \t ile \t programlama\n"
          ]
        }
      ]
    },
    {
      "cell_type": "code",
      "source": [
        "ad = \"Guido \"\n",
        "soyadı = \"van Rossum\"\n",
        "adsoyad = ad + soyadı #metin veri tipindeki iki değişkeni toplamak mümkündür.  \n",
        "adsoyad"
      ],
      "metadata": {
        "colab": {
          "base_uri": "https://localhost:8080/",
          "height": 35
        },
        "id": "s9Xl_mMi2xl8",
        "outputId": "0e687649-e9e0-4fd3-bcb9-4cef80e07776"
      },
      "execution_count": 16,
      "outputs": [
        {
          "output_type": "execute_result",
          "data": {
            "application/vnd.google.colaboratory.intrinsic+json": {
              "type": "string"
            },
            "text/plain": [
              "'Guido van Rossum'"
            ]
          },
          "metadata": {},
          "execution_count": 16
        }
      ]
    },
    {
      "cell_type": "code",
      "source": [
        "dil = \"python\"\n",
        "dil_3 = dil*3 #metinleri toplamak kadar çarpma işlemi de uygulanabilir.\n",
        "dil_3"
      ],
      "metadata": {
        "colab": {
          "base_uri": "https://localhost:8080/",
          "height": 35
        },
        "id": "_E7CpVoQ3bN2",
        "outputId": "8e7b8523-dbe2-4337-bcde-d9d725e15e81"
      },
      "execution_count": 17,
      "outputs": [
        {
          "output_type": "execute_result",
          "data": {
            "application/vnd.google.colaboratory.intrinsic+json": {
              "type": "string"
            },
            "text/plain": [
              "'pythonpythonpython'"
            ]
          },
          "metadata": {},
          "execution_count": 17
        }
      ]
    },
    {
      "cell_type": "markdown",
      "source": [
        "Metin veri tipindeki değişkenlerle birçok işlem ve method vardır. Örneğin .title() methodu ile, metindeki her kelimenin ilk harfi büyük diğerleri küçük hale getirebilir:"
      ],
      "metadata": {
        "id": "9AjkQmp83zTF"
      }
    },
    {
      "cell_type": "code",
      "source": [
        "isim = \"duygu sevim aytan\"\n",
        "isim.title()"
      ],
      "metadata": {
        "colab": {
          "base_uri": "https://localhost:8080/",
          "height": 35
        },
        "id": "gzs7F2fn3-lW",
        "outputId": "ca4e4594-92f5-4b6c-d6a7-e9985c1c313d"
      },
      "execution_count": 18,
      "outputs": [
        {
          "output_type": "execute_result",
          "data": {
            "application/vnd.google.colaboratory.intrinsic+json": {
              "type": "string"
            },
            "text/plain": [
              "'Duygu Sevim Aytan'"
            ]
          },
          "metadata": {},
          "execution_count": 18
        }
      ]
    },
    {
      "cell_type": "code",
      "source": [
        "isim = \"DUYGU SEVIM AYTAN\" #isim.title() şeklindeki kod, Python'a isim değişkeni üzerinde .title() methodunu kullanmasını söylemektedir.\n",
        "isim.title()"
      ],
      "metadata": {
        "colab": {
          "base_uri": "https://localhost:8080/",
          "height": 35
        },
        "id": "b10VApT84GuW",
        "outputId": "fe3deffa-a3cd-4c69-fbf0-9eb59b7b3514"
      },
      "execution_count": 19,
      "outputs": [
        {
          "output_type": "execute_result",
          "data": {
            "application/vnd.google.colaboratory.intrinsic+json": {
              "type": "string"
            },
            "text/plain": [
              "'Duygu Sevim Aytan'"
            ]
          },
          "metadata": {},
          "execution_count": 19
        }
      ]
    },
    {
      "cell_type": "code",
      "source": [
        "isim = \"Duygu Sevim Aytan\" #.capitalize() methodu ise sadece ilk harfi büyük diğerlerini küçük yapar. \n",
        "isim.capitalize()"
      ],
      "metadata": {
        "colab": {
          "base_uri": "https://localhost:8080/",
          "height": 35
        },
        "id": "BHbXh68c4M6d",
        "outputId": "2e8d4413-c234-4a05-a043-248ba1526308"
      },
      "execution_count": 20,
      "outputs": [
        {
          "output_type": "execute_result",
          "data": {
            "application/vnd.google.colaboratory.intrinsic+json": {
              "type": "string"
            },
            "text/plain": [
              "'Duygu sevim aytan'"
            ]
          },
          "metadata": {},
          "execution_count": 20
        }
      ]
    },
    {
      "cell_type": "code",
      "source": [
        "ad = \"Duygu Sevim Aytan\" #benzer şekilde .lower() tüm harfleri küçük yaparken .upper() tüm harfleri büyük yapar.\n",
        "ad.lower()"
      ],
      "metadata": {
        "colab": {
          "base_uri": "https://localhost:8080/",
          "height": 35
        },
        "id": "yoHTEQkZ43FY",
        "outputId": "91fa4081-e341-4658-b96d-c0f0db16bcc3"
      },
      "execution_count": 21,
      "outputs": [
        {
          "output_type": "execute_result",
          "data": {
            "application/vnd.google.colaboratory.intrinsic+json": {
              "type": "string"
            },
            "text/plain": [
              "'duygu sevim aytan'"
            ]
          },
          "metadata": {},
          "execution_count": 21
        }
      ]
    },
    {
      "cell_type": "code",
      "source": [
        "ad.upper()"
      ],
      "metadata": {
        "colab": {
          "base_uri": "https://localhost:8080/",
          "height": 35
        },
        "id": "mIj84uAi5JJf",
        "outputId": "5e3f6ffd-67b7-4168-a2da-a72d842250d7"
      },
      "execution_count": 22,
      "outputs": [
        {
          "output_type": "execute_result",
          "data": {
            "application/vnd.google.colaboratory.intrinsic+json": {
              "type": "string"
            },
            "text/plain": [
              "'DUYGU SEVIM AYTAN'"
            ]
          },
          "metadata": {},
          "execution_count": 22
        }
      ]
    },
    {
      "cell_type": "markdown",
      "source": [
        ""
      ],
      "metadata": {
        "id": "OHtXLiSY5UHl"
      }
    }
  ]
}